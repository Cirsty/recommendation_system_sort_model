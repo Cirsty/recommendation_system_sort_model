{
 "cells": [
  {
   "cell_type": "code",
   "execution_count": 1,
   "metadata": {},
   "outputs": [],
   "source": [
    "import tensorflow as tf\n",
    "from tensorflow.keras import layers\n",
    "import pandas as pd\n",
    "from model.DIN import DIN\n",
    "import data_reader.alibaba_data_reader as data_reader\n",
    "import utils\n",
    "import matplotlib\n",
    "import matplotlib.pyplot as plt\n",
    "from matplotlib.font_manager import FontProperties\n",
    "from matplotlib.pyplot import MultipleLocator\n",
    "import numpy as np"
   ]
  },
  {
   "cell_type": "code",
   "execution_count": 2,
   "metadata": {},
   "outputs": [],
   "source": [
    "def mkdir(path):\n",
    "    try:\n",
    "        if not os.path.exists(path):\n",
    "            os.makedirs(path)\n",
    "        return 0\n",
    "    except:\n",
    "        return 1\n",
    "def is_in_notebook():\n",
    "    import sys\n",
    "    return 'ipykernel' in sys.modules\n",
    "def clear_output():\n",
    "    \"\"\"\n",
    "    clear output for both jupyter notebook and the console\n",
    "    \"\"\"\n",
    "    import os\n",
    "    os.system('cls' if os.name == 'nt' else 'clear')\n",
    "    if is_in_notebook():\n",
    "        from IPython.display import clear_output as clear\n",
    "        clear()\n",
    "model_name = \"din\""
   ]
  },
  {
   "cell_type": "code",
   "execution_count": 3,
   "metadata": {},
   "outputs": [
    {
     "name": "stdout",
     "output_type": "stream",
     "text": [
      "2.0.0\n",
      "GPU Available:  True\n"
     ]
    }
   ],
   "source": [
    "print(tf.__version__)\n",
    "print(\"GPU Available: \", tf.test.is_gpu_available())"
   ]
  },
  {
   "cell_type": "code",
   "execution_count": 4,
   "metadata": {},
   "outputs": [
    {
     "data": {
      "text/html": [
       "<div>\n",
       "<style scoped>\n",
       "    .dataframe tbody tr th:only-of-type {\n",
       "        vertical-align: middle;\n",
       "    }\n",
       "\n",
       "    .dataframe tbody tr th {\n",
       "        vertical-align: top;\n",
       "    }\n",
       "\n",
       "    .dataframe thead th {\n",
       "        text-align: right;\n",
       "    }\n",
       "</style>\n",
       "<table border=\"1\" class=\"dataframe\">\n",
       "  <thead>\n",
       "    <tr style=\"text-align: right;\">\n",
       "      <th></th>\n",
       "      <th>brand</th>\n",
       "      <th>cate</th>\n",
       "      <th>cms_segid</th>\n",
       "      <th>cms_group</th>\n",
       "      <th>gender</th>\n",
       "      <th>age</th>\n",
       "      <th>pvalue</th>\n",
       "      <th>shopping</th>\n",
       "      <th>occupation</th>\n",
       "      <th>user_class_level</th>\n",
       "    </tr>\n",
       "  </thead>\n",
       "  <tbody>\n",
       "    <tr>\n",
       "      <th>0</th>\n",
       "      <td>460561</td>\n",
       "      <td>12968</td>\n",
       "      <td>97</td>\n",
       "      <td>13</td>\n",
       "      <td>2</td>\n",
       "      <td>7</td>\n",
       "      <td>3</td>\n",
       "      <td>3</td>\n",
       "      <td>2</td>\n",
       "      <td>4</td>\n",
       "    </tr>\n",
       "  </tbody>\n",
       "</table>\n",
       "</div>"
      ],
      "text/plain": [
       "    brand   cate  cms_segid  cms_group  gender  age  pvalue  shopping  \\\n",
       "0  460561  12968         97         13       2    7       3         3   \n",
       "\n",
       "   occupation  user_class_level  \n",
       "0           2                 4  "
      ]
     },
     "execution_count": 4,
     "metadata": {},
     "output_type": "execute_result"
    }
   ],
   "source": [
    "train_data, test_data, embedding_count = data_reader.get_data()\n",
    "embedding_count"
   ]
  },
  {
   "cell_type": "code",
   "execution_count": 5,
   "metadata": {},
   "outputs": [],
   "source": [
    "embedding_features_list = data_reader.get_embedding_features_list()\n",
    "user_behavior_features = data_reader.get_user_behavior_features()\n",
    "embedding_count_dict = data_reader.get_embedding_count_dict(embedding_features_list, embedding_count)\n",
    "embedding_dim_dict = data_reader.get_embedding_dim_dict(embedding_features_list)"
   ]
  },
  {
   "cell_type": "code",
   "execution_count": 6,
   "metadata": {},
   "outputs": [],
   "source": [
    "import time\n",
    "stamp = time.strftime(\"%Y%m%d-%H%M%S\", time.localtime())\n",
    "mkdir(\"./train_log/\" + model_name)\n",
    "log_path = \"./train_log/\" + model_name + \"/%s\" % stamp\n",
    "train_summary_writer = tf.summary.create_file_writer(log_path)\n",
    "tf.summary.trace_on(graph=True, profiler=True)\n",
    "loss_file_name = utils.get_file_name()\n",
    "mkdir(\"./loss/\" + model_name + \"/\")\n",
    "utils.make_train_loss_dir(loss_file_name, cols = [\"train_final_loss\"], model = model_name)\n",
    "utils.make_test_loss_dir(loss_file_name, cols = [\"test_final_loss\"], model = model_name)"
   ]
  },
  {
   "cell_type": "code",
   "execution_count": 7,
   "metadata": {},
   "outputs": [
    {
     "data": {
      "text/plain": [
       "<model.DIN.DIN at 0x7f1d78b6e2d0>"
      ]
     },
     "execution_count": 7,
     "metadata": {},
     "output_type": "execute_result"
    }
   ],
   "source": [
    "model = DIN(\n",
    "    embedding_count_dict, \n",
    "    embedding_dim_dict, \n",
    "    embedding_features_list, \n",
    "    user_behavior_features, \n",
    "    activation=\"dice\"\n",
    ")\n",
    "model"
   ]
  },
  {
   "cell_type": "code",
   "execution_count": 8,
   "metadata": {},
   "outputs": [],
   "source": [
    "min_batch = 0\n",
    "batch = 100\n",
    "optimizer = tf.keras.optimizers.Adam(lr=1e-4, beta_1=0.9, beta_2=0.999, epsilon=1e-08, decay=0.0)\n",
    "loss_metric = tf.keras.metrics.Sum()\n",
    "auc_metric = tf.keras.metrics.AUC()\n",
    "alpha = 1\n",
    "epochs = 2"
   ]
  },
  {
   "cell_type": "code",
   "execution_count": 9,
   "metadata": {},
   "outputs": [],
   "source": [
    "label, target_cate, target_brand, cms_segid, cms_group, gender, age, pvalue, shopping, occupation, user_class_level, hist_brand_behavior_clk, hist_cate_behavior_clk, hist_brand_behavior_show, hist_cate_behavior_show, min_batch, clk_length, show_length = data_reader.get_batch_data(train_data, min_batch, batch = batch)"
   ]
  },
  {
   "cell_type": "code",
   "execution_count": 10,
   "metadata": {},
   "outputs": [],
   "source": [
    "def get_train_data(label, target_cate, target_brand, cms_segid, cms_group, gender, age, pvalue, shopping, occupation, user_class_level, hist_brand_behavior_clk, hist_cate_behavior_clk, hist_brand_behavior_show, hist_cate_behavior_show):\n",
    "    user_profile_dict = {\n",
    "        \"cms_segid\": cms_segid,\n",
    "        \"cms_group\": cms_group,\n",
    "        \"gender\": gender,\n",
    "        \"age\": age,\n",
    "        \"pvalue\": pvalue,\n",
    "        \"shopping\": shopping,\n",
    "        \"occupation\": occupation,\n",
    "        \"user_class_level\": user_class_level\n",
    "    }\n",
    "    user_profile_list = [\"cms_segid\", \"cms_group\", \"gender\", \"age\", \"pvalue\", \"shopping\", \"occupation\", \"user_class_level\"]\n",
    "    user_behavior_list = [\"brand\", \"cate\"]\n",
    "    click_behavior_dict = {\n",
    "        \"brand\": hist_brand_behavior_clk,\n",
    "        \"cate\": hist_cate_behavior_clk\n",
    "    }\n",
    "    noclick_behavior_dict = {\n",
    "        \"brand\": hist_brand_behavior_show,\n",
    "        \"cate\": hist_cate_behavior_show\n",
    "    }\n",
    "    target_item_dict = {\n",
    "        \"brand\": target_cate,\n",
    "        \"cate\": target_brand\n",
    "    }\n",
    "    return user_profile_dict, user_profile_list, user_behavior_list, click_behavior_dict, noclick_behavior_dict, target_item_dict"
   ]
  },
  {
   "cell_type": "code",
   "execution_count": 11,
   "metadata": {},
   "outputs": [],
   "source": [
    "user_profile_dict, user_profile_list, user_behavior_list, click_behavior_dict, noclick_behavior_dict, target_item_dict = get_train_data(label, target_cate, target_brand, cms_segid, cms_group, gender, age, pvalue, shopping, occupation, user_class_level, hist_brand_behavior_clk, hist_cate_behavior_clk, hist_brand_behavior_show, hist_cate_behavior_show) "
   ]
  },
  {
   "cell_type": "code",
   "execution_count": 12,
   "metadata": {},
   "outputs": [],
   "source": [
    "def train_one_step(user_profile_dict, user_profile_list, click_behavior_dict, target_item_dict, noclick_behavior_dict, user_behavior_list, label, clk_length):\n",
    "        with tf.GradientTape() as tape:\n",
    "            output, logit = model(\n",
    "                user_profile_dict, \n",
    "                user_profile_list, \n",
    "                click_behavior_dict, \n",
    "                target_item_dict, \n",
    "                user_behavior_list,\n",
    "                clk_length\n",
    "            )\n",
    "            final_loss = tf.reduce_mean(tf.nn.sigmoid_cross_entropy_with_logits(logits=logit,labels=tf.cast(label, dtype=tf.float32)))\n",
    "            print(\"final_loss=\" + str(final_loss))\n",
    "        gradient = tape.gradient(final_loss, model.trainable_variables)\n",
    "        clip_gradient, _ = tf.clip_by_global_norm(gradient, 5.0)\n",
    "        optimizer.apply_gradients(zip(clip_gradient, model.trainable_variables))\n",
    "        loss_metric(final_loss)\n",
    "        return final_loss.numpy()"
   ]
  },
  {
   "cell_type": "code",
   "execution_count": 13,
   "metadata": {},
   "outputs": [],
   "source": [
    "def get_test_loss(user_profile_dict, user_profile_list, click_behavior_dict, target_item_dict, noclick_behavior_dict, user_behavior_list, label, clk_length):\n",
    "    output, logit = model(\n",
    "        user_profile_dict, \n",
    "        user_profile_list, \n",
    "        click_behavior_dict, \n",
    "        target_item_dict, \n",
    "        user_behavior_list, \n",
    "        clk_length\n",
    "    )\n",
    "    final_loss = tf.reduce_mean(tf.nn.sigmoid_cross_entropy_with_logits(logits=logit,labels=tf.cast(label, dtype=tf.float32)))\n",
    "    print(\"final_loss=\" + str(final_loss))\n",
    "    return final_loss.numpy()"
   ]
  },
  {
   "cell_type": "code",
   "execution_count": 14,
   "metadata": {},
   "outputs": [
    {
     "name": "stdout",
     "output_type": "stream",
     "text": [
      "WARNING:tensorflow:Layer din is casting an input tensor from dtype float64 to the layer's dtype of float32, which is new behavior in TensorFlow 2.  The layer has dtype float32 because it's dtype defaults to floatx.\n",
      "\n",
      "If you intended to run this layer in float32, you can safely ignore this warning. If in doubt, this warning is likely only an issue if you are porting a TensorFlow 1.X model to TensorFlow 2.\n",
      "\n",
      "To change all layers to have dtype float64 by default, call `tf.keras.backend.set_floatx('float64')`. To change just this layer, pass dtype='float64' to the layer constructor. If you are the author of this layer, you can disable autocasting by passing autocast=False to the base Layer constructor.\n",
      "\n",
      "outputs:(100, 128)\n",
      "final_loss=tf.Tensor(0.6896262, shape=(), dtype=float32)\n"
     ]
    },
    {
     "data": {
      "text/plain": [
       "0.6896262"
      ]
     },
     "execution_count": 14,
     "metadata": {},
     "output_type": "execute_result"
    }
   ],
   "source": [
    "get_test_loss(user_profile_dict, user_profile_list, click_behavior_dict, target_item_dict, noclick_behavior_dict, user_behavior_list, label, clk_length)"
   ]
  },
  {
   "cell_type": "code",
   "execution_count": 15,
   "metadata": {},
   "outputs": [
    {
     "name": "stdout",
     "output_type": "stream",
     "text": [
      "Model: \"din\"\n",
      "_________________________________________________________________\n",
      "Layer (type)                 Output Shape              Param #   \n",
      "=================================================================\n",
      "embedding_5 (Embedding)      multiple                  448       \n",
      "_________________________________________________________________\n",
      "embedding_1 (Embedding)      multiple                  32000000  \n",
      "_________________________________________________________________\n",
      "embedding (Embedding)        multiple                  32100992  \n",
      "_________________________________________________________________\n",
      "embedding_3 (Embedding)      multiple                  832       \n",
      "_________________________________________________________________\n",
      "embedding_2 (Embedding)      multiple                  6208      \n",
      "_________________________________________________________________\n",
      "embedding_4 (Embedding)      multiple                  192       \n",
      "_________________________________________________________________\n",
      "embedding_8 (Embedding)      multiple                  320       \n",
      "_________________________________________________________________\n",
      "embedding_6 (Embedding)      multiple                  640       \n",
      "_________________________________________________________________\n",
      "embedding_7 (Embedding)      multiple                  256       \n",
      "_________________________________________________________________\n",
      "embedding_9 (Embedding)      multiple                  320       \n",
      "_________________________________________________________________\n",
      "attention (attention)        multiple                  20697     \n",
      "_________________________________________________________________\n",
      "sequential_1 (Sequential)    multiple                  174234    \n",
      "=================================================================\n",
      "Total params: 64,305,139\n",
      "Trainable params: 64,301,947\n",
      "Non-trainable params: 3,192\n",
      "_________________________________________________________________\n"
     ]
    }
   ],
   "source": [
    "model.summary()"
   ]
  },
  {
   "cell_type": "code",
   "execution_count": 16,
   "metadata": {},
   "outputs": [
    {
     "name": "stdout",
     "output_type": "stream",
     "text": [
      "din/embedding_5/embeddings:0\n",
      "din/embedding_1/embeddings:0\n",
      "din/embedding/embeddings:0\n",
      "din/embedding_3/embeddings:0\n",
      "din/embedding_2/embeddings:0\n",
      "din/embedding_4/embeddings:0\n",
      "din/embedding_8/embeddings:0\n",
      "din/embedding_6/embeddings:0\n",
      "din/embedding_7/embeddings:0\n",
      "din/embedding_9/embeddings:0\n",
      "din/attention/sequential/batch_normalization/gamma:0\n",
      "din/attention/sequential/batch_normalization/beta:0\n",
      "din/attention/sequential/dense/kernel:0\n",
      "din/attention/sequential/dense/bias:0\n",
      "Variable:0\n",
      "Variable:0\n",
      "din/attention/sequential/dense_1/kernel:0\n",
      "din/attention/sequential/dense_1/bias:0\n",
      "din/sequential_1/batch_normalization_2/gamma:0\n",
      "din/sequential_1/batch_normalization_2/beta:0\n",
      "din/sequential_1/dense_2/kernel:0\n",
      "din/sequential_1/dense_2/bias:0\n",
      "Variable:0\n",
      "Variable:0\n",
      "din/sequential_1/dense_3/kernel:0\n",
      "din/sequential_1/dense_3/bias:0\n",
      "Variable:0\n",
      "Variable:0\n",
      "din/sequential_1/dense_4/kernel:0\n",
      "din/sequential_1/dense_4/bias:0\n"
     ]
    }
   ],
   "source": [
    "for var in model.trainable_variables:\n",
    "    print(var.name)"
   ]
  },
  {
   "cell_type": "code",
   "execution_count": 17,
   "metadata": {},
   "outputs": [],
   "source": [
    "def get_loss_fig(train_loss, test_loss):\n",
    "    loss_list = [\"final_loss\"]\n",
    "    color_list = [\"r\", \"b\"]\n",
    "    plt.figure()\n",
    "    cnt = 0\n",
    "    for k in loss_list:\n",
    "        loss = train_loss[k]\n",
    "        step = list(np.arange(len(loss)))\n",
    "        plt.plot(step,loss,color_list[cnt]+\"-\",label=\"train_\" + k, linestyle=\"--\")\n",
    "        cnt += 1\n",
    "    cnt = 0\n",
    "    for k in loss_list:\n",
    "        loss = test_loss[k]\n",
    "        step = list(np.arange(len(loss)))\n",
    "        plt.plot(step,loss,color_list[cnt],label=\"test_\" + k)\n",
    "        cnt += 1\n",
    "    plt.title(\"Loss\")\n",
    "    plt.xlabel('iteration')\n",
    "    plt.ylabel('loss')\n",
    "    plt.legend()\n",
    "    clear_output()\n",
    "    mkdir(\"./loss/\" + model_name)\n",
    "    plt.savefig(\"./loss/\" + model_name + \"/loss.png\")\n",
    "    clear_output()\n",
    "    plt.show()"
   ]
  },
  {
   "cell_type": "code",
   "execution_count": 18,
   "metadata": {},
   "outputs": [],
   "source": [
    "def record_test_loss(test_loss, test_data, step):\n",
    "    label, target_cate, target_brand, cms_segid, cms_group, gender, age, pvalue, shopping, occupation, user_class_level, hist_brand_behavior_clk, hist_cate_behavior_clk, hist_brand_behavior_show, hist_cate_behavior_show, clk_length, show_length = data_reader.get_test_data(test_data)\n",
    "    user_profile_dict, user_profile_list, user_behavior_list, click_behavior_dict, noclick_behavior_dict, target_item_dict = get_train_data(label, target_cate, target_brand, cms_segid, cms_group, gender, age, pvalue, shopping, occupation, user_class_level, hist_brand_behavior_clk, hist_cate_behavior_clk, hist_brand_behavior_show, hist_cate_behavior_show)\n",
    "    final_loss = get_test_loss(user_profile_dict, user_profile_list, click_behavior_dict, target_item_dict, noclick_behavior_dict, user_behavior_list, label, clk_length)\n",
    "    loss_dict = dict()\n",
    "    loss_dict[\"final_loss\"] = str(final_loss)\n",
    "    utils.add_loss(loss_dict, loss_file_name, cols=[\"final_loss\"], level=\"test\", model=model_name)\n",
    "    test_loss[\"final_loss\"].append(float(final_loss))\n",
    "    with train_summary_writer.as_default():\n",
    "        tf.summary.scalar(\"test_final_loss epoch: \"+str(epoch), final_loss, step = step)"
   ]
  },
  {
   "cell_type": "code",
   "execution_count": 19,
   "metadata": {},
   "outputs": [],
   "source": [
    "mkdir(\"./checkpoint/\" + model_name)\n",
    "checkpoint_path = \"./checkpoint/\" + model_name + \"/cp-{epoch:04d}.ckpt\"\n",
    "checkpoint_dir = os.path.dirname(checkpoint_path)"
   ]
  },
  {
   "cell_type": "code",
   "execution_count": 20,
   "metadata": {},
   "outputs": [
    {
     "data": {
      "image/png": "[encoded data removed]",
      "text/plain": [
       "<Figure size 432x288 with 1 Axes>"
      ]
     },
     "metadata": {
      "needs_background": "light"
     },
     "output_type": "display_data"
    }
   ],
   "source": [
    "train_loss = {\"final_loss\":[]}\n",
    "test_loss = {\"final_loss\":[]}\n",
    "for epoch in range(epochs):\n",
    "    for i in range(int(len(train_data) / batch)):\n",
    "        label, target_cate, target_brand, cms_segid, cms_group, gender, age, pvalue, shopping, occupation, user_class_level, hist_brand_behavior_clk, hist_cate_behavior_clk, hist_brand_behavior_show, hist_cate_behavior_show, min_batch, clk_length, show_length = data_reader.get_batch_data(train_data, min_batch, batch = batch)\n",
    "        record_test_loss(test_loss, test_data, i)\n",
    "        user_profile_dict, user_profile_list, user_behavior_list, click_behavior_dict, noclick_behavior_dict, target_item_dict = get_train_data(label, target_cate, target_brand, cms_segid, cms_group, gender, age, pvalue, shopping, occupation, user_class_level, hist_brand_behavior_clk, hist_cate_behavior_clk, hist_brand_behavior_show, hist_cate_behavior_show)\n",
    "        final_loss = train_one_step(user_profile_dict, user_profile_list, click_behavior_dict, target_item_dict, noclick_behavior_dict, user_behavior_list, label, clk_length)\n",
    "        #Record_loss12\n",
    "        loss_dict = dict()\n",
    "        loss_dict[\"final_loss\"] = str(final_loss)\n",
    "        utils.add_loss(loss_dict, loss_file_name, cols=[\"final_loss\"], level=\"train\", model=model_name)\n",
    "        train_loss[\"final_loss\"].append(float(final_loss))\n",
    "        get_loss_fig(train_loss, test_loss)\n",
    "        tf.summary.trace_on(graph=True, profiler=True)\n",
    "        with train_summary_writer.as_default():\n",
    "            tf.summary.scalar(\"train_final_loss epoch: \"+str(epoch), final_loss, step = i)\n",
    "            tf.summary.trace_export(\n",
    "                name=\"DIN\", \n",
    "                step=i, \n",
    "                profiler_outdir=log_path)\n",
    "    model.save_weights(checkpoint_path.format(epoch=epoch))"
   ]
  },
  {
   "cell_type": "code",
   "execution_count": 21,
   "metadata": {},
   "outputs": [
    {
     "name": "stdout",
     "output_type": "stream",
     "text": [
      "./checkpoint/din/cp-0001.ckpt\n"
     ]
    },
    {
     "data": {
      "text/plain": [
       "<tensorflow.python.training.tracking.util.CheckpointLoadStatus at 0x7f1d61b30d50>"
      ]
     },
     "execution_count": 21,
     "metadata": {},
     "output_type": "execute_result"
    }
   ],
   "source": [
    "last_model =  DIN(\n",
    "    embedding_count_dict, \n",
    "    embedding_dim_dict, \n",
    "    embedding_features_list, \n",
    "    user_behavior_features, \n",
    "    activation=\"dice\"\n",
    ")\n",
    "latest = tf.train.latest_checkpoint(checkpoint_dir)\n",
    "print(latest)\n",
    "last_model.load_weights(latest)"
   ]
  },
  {
   "cell_type": "code",
   "execution_count": 22,
   "metadata": {},
   "outputs": [
    {
     "name": "stdout",
     "output_type": "stream",
     "text": [
      "WARNING:tensorflow:Layer din_1 is casting an input tensor from dtype float64 to the layer's dtype of float32, which is new behavior in TensorFlow 2.  The layer has dtype float32 because it's dtype defaults to floatx.\n",
      "\n",
      "If you intended to run this layer in float32, you can safely ignore this warning. If in doubt, this warning is likely only an issue if you are porting a TensorFlow 1.X model to TensorFlow 2.\n",
      "\n",
      "To change all layers to have dtype float64 by default, call `tf.keras.backend.set_floatx('float64')`. To change just this layer, pass dtype='float64' to the layer constructor. If you are the author of this layer, you can disable autocasting by passing autocast=False to the base Layer constructor.\n",
      "\n",
      "outputs:(100, 128)\n",
      "final_loss=tf.Tensor(0.15911661, shape=(), dtype=float32)\n"
     ]
    },
    {
     "data": {
      "text/plain": [
       "0.15911661"
      ]
     },
     "execution_count": 22,
     "metadata": {},
     "output_type": "execute_result"
    }
   ],
   "source": [
    "model= last_model\n",
    "label, target_cate, target_brand, cms_segid, cms_group, gender, age, pvalue, shopping, occupation, user_class_level, hist_brand_behavior_clk, hist_cate_behavior_clk, hist_brand_behavior_show, hist_cate_behavior_show, min_batch, clk_length, show_length = data_reader.get_batch_data(train_data, min_batch, batch = batch)\n",
    "user_profile_dict, user_profile_list, user_behavior_list, click_behavior_dict, noclick_behavior_dict, target_item_dict = get_train_data(label, target_cate, target_brand, cms_segid, cms_group, gender, age, pvalue, shopping, occupation, user_class_level, hist_brand_behavior_clk, hist_cate_behavior_clk, hist_brand_behavior_show, hist_cate_behavior_show) \n",
    "final_loss = get_test_loss(user_profile_dict, user_profile_list, click_behavior_dict, target_item_dict, noclick_behavior_dict, user_behavior_list, label, clk_length)\n",
    "final_loss"
   ]
  },
  {
   "cell_type": "code",
   "execution_count": 23,
   "metadata": {},
   "outputs": [],
   "source": [
    "def convert_tensor(data):\n",
    "    return tf.convert_to_tensor(data)\n",
    "\n",
    "def get_normal_data(data, col):\n",
    "    return data[col].values\n",
    "\n",
    "def get_sequence_data(data, col):\n",
    "    rst = []\n",
    "    max_length = 0\n",
    "    for i in data[col].values:\n",
    "        temp = len(list(map(eval,i[1:-1].split(\",\"))))\n",
    "        if temp > max_length:\n",
    "            max_length = temp\n",
    "\n",
    "    for i in data[col].values:\n",
    "        temp = list(map(eval,i[1:-1].split(\",\")))\n",
    "        padding = np.zeros(max_length - len(temp))\n",
    "        rst.append(list(np.append(np.array(temp), padding)))\n",
    "    return rst\n",
    "\n",
    "def get_length(data, col):\n",
    "    rst = []\n",
    "    for i in data[col].values:\n",
    "        temp = len(list(map(eval,i[1:-1].split(\",\"))))\n",
    "        rst.append(temp)\n",
    "    return rst\n",
    "\n",
    "def get_evaluate_data(data):\n",
    "    batch_data = data\n",
    "    click = get_normal_data(batch_data, \"guide_dien_final_train_data.clk\")\n",
    "    target_cate = get_normal_data(batch_data, \"guide_dien_final_train_data.cate_id\")\n",
    "    target_brand = get_normal_data(batch_data, \"guide_dien_final_train_data.brand\")\n",
    "    cms_segid = get_normal_data(batch_data, \"guide_dien_final_train_data.cms_segid\")\n",
    "    cms_group = get_normal_data(batch_data, \"guide_dien_final_train_data.cms_group_id\")\n",
    "    gender = get_normal_data(batch_data, \"guide_dien_final_train_data.final_gender_code\")\n",
    "    age = get_normal_data(batch_data, \"guide_dien_final_train_data.age_level\")\n",
    "    pvalue = get_normal_data(batch_data, \"guide_dien_final_train_data.pvalue_level\")\n",
    "    shopping = get_normal_data(batch_data, \"guide_dien_final_train_data.shopping_level\")\n",
    "    occupation = get_normal_data(batch_data, \"guide_dien_final_train_data.occupation\")\n",
    "    user_class_level = get_normal_data(batch_data, \"guide_dien_final_train_data.new_user_class_level\")\n",
    "    hist_brand_behavior_clk = get_sequence_data(batch_data, \"guide_dien_final_train_data.click_brand\")\n",
    "    hist_cate_behavior_clk = get_sequence_data(batch_data, \"guide_dien_final_train_data.click_cate\")\n",
    "    hist_brand_behavior_show = get_sequence_data(batch_data, \"guide_dien_final_train_data.show_brand\")\n",
    "    hist_cate_behavior_show = get_sequence_data(batch_data, \"guide_dien_final_train_data.show_cate\")\n",
    "    clk_length = get_length(batch_data, \"guide_dien_final_train_data.click_brand\")\n",
    "    show_length = get_length(batch_data, \"guide_dien_final_train_data.show_brand\")\n",
    "    return tf.one_hot(click, 2), convert_tensor(target_cate), convert_tensor(target_brand), convert_tensor(cms_segid), convert_tensor(cms_group), convert_tensor(gender), convert_tensor(age), convert_tensor(pvalue), convert_tensor(shopping), convert_tensor(occupation), convert_tensor(user_class_level), convert_tensor(hist_brand_behavior_clk), convert_tensor(hist_cate_behavior_clk), convert_tensor(hist_brand_behavior_show), convert_tensor(hist_cate_behavior_show), clk_length, show_length"
   ]
  },
  {
   "cell_type": "code",
   "execution_count": 24,
   "metadata": {},
   "outputs": [],
   "source": [
    "label, target_cate, target_brand, cms_segid, cms_group, gender, age, pvalue, shopping, occupation, user_class_level, hist_brand_behavior_clk, hist_cate_behavior_clk, hist_brand_behavior_show, hist_cate_behavior_show, clk_length, show_length = get_evaluate_data(test_data)"
   ]
  },
  {
   "cell_type": "code",
   "execution_count": 25,
   "metadata": {},
   "outputs": [],
   "source": [
    "user_profile_dict, user_profile_list, user_behavior_list, click_behavior_dict, noclick_behavior_dict, target_item_dict = get_train_data(label, target_cate, target_brand, cms_segid, cms_group, gender, age, pvalue, shopping, occupation, user_class_level, hist_brand_behavior_clk, hist_cate_behavior_clk, hist_brand_behavior_show, hist_cate_behavior_show)"
   ]
  },
  {
   "cell_type": "code",
   "execution_count": 26,
   "metadata": {},
   "outputs": [
    {
     "name": "stdout",
     "output_type": "stream",
     "text": [
      "outputs:(999, 128)\n"
     ]
    }
   ],
   "source": [
    "output, logit = model(\n",
    "    user_profile_dict, \n",
    "    user_profile_list, \n",
    "    click_behavior_dict, \n",
    "    target_item_dict, \n",
    "    user_behavior_list,\n",
    "    clk_length\n",
    ")"
   ]
  },
  {
   "cell_type": "code",
   "execution_count": 27,
   "metadata": {},
   "outputs": [
    {
     "name": "stdout",
     "output_type": "stream",
     "text": [
      "[训练集]正例:负例=501 : 9435\n",
      "[测试集]正例:负例=56 : 943\n"
     ]
    }
   ],
   "source": [
    "train_label = train_data[\"guide_dien_final_train_data.clk\"].values\n",
    "positive_num = len(train_label[train_label == 1])\n",
    "negative_num = len(train_label[train_label == 0])\n",
    "print(\"[训练集]正例:负例=%d : %d\" % (positive_num, negative_num))\n",
    "test_label = test_data[\"guide_dien_final_train_data.clk\"].values\n",
    "positive_num = len(test_label[test_label == 1])\n",
    "negative_num = len(test_label[test_label == 0])\n",
    "print(\"[测试集]正例:负例=%d : %d\" % (positive_num, negative_num))"
   ]
  },
  {
   "cell_type": "code",
   "execution_count": 28,
   "metadata": {},
   "outputs": [],
   "source": [
    "y_true = label.numpy()[:,-1]\n",
    "y_score = output.numpy()[:,-1]"
   ]
  },
  {
   "cell_type": "code",
   "execution_count": 42,
   "metadata": {},
   "outputs": [],
   "source": [
    "threshold = 0.02\n",
    "y_pre = y_score.copy()\n",
    "y_pre[y_pre > threshold] = 1\n",
    "y_pre[y_pre <= threshold] = 0"
   ]
  },
  {
   "cell_type": "code",
   "execution_count": 43,
   "metadata": {},
   "outputs": [],
   "source": [
    "import numpy as np\n",
    "from sklearn.metrics import accuracy_score\n",
    "from sklearn.metrics import f1_score\n",
    "from sklearn.metrics import auc\n",
    "import sklearn.metrics as sm\n",
    "from sklearn.metrics import roc_curve, auc\n",
    "import matplotlib as mpl  \n",
    "import matplotlib.pyplot as plt"
   ]
  },
  {
   "cell_type": "code",
   "execution_count": 44,
   "metadata": {},
   "outputs": [
    {
     "name": "stdout",
     "output_type": "stream",
     "text": [
      "0.8948948948948949\n"
     ]
    }
   ],
   "source": [
    "print(accuracy_score(y_true, y_pre))"
   ]
  },
  {
   "cell_type": "code",
   "execution_count": 45,
   "metadata": {},
   "outputs": [
    {
     "data": {
      "text/plain": [
       "array([1., 1., 1., 1., 1., 1., 1., 1., 1., 1., 1., 1., 1., 1., 1., 1., 1.,\n",
       "       1., 1., 1., 1., 1., 1., 1., 1., 1., 1., 1., 1., 1., 1., 1., 1., 1.,\n",
       "       1., 1., 1., 1., 1., 1., 1., 1., 1., 1., 1., 1., 1., 1., 1., 1., 1.,\n",
       "       1., 1., 1., 1., 1., 1., 1., 1.], dtype=float32)"
      ]
     },
     "execution_count": 45,
     "metadata": {},
     "output_type": "execute_result"
    }
   ],
   "source": [
    " y_pre[y_pre == 1]"
   ]
  },
  {
   "cell_type": "code",
   "execution_count": 46,
   "metadata": {},
   "outputs": [
    {
     "name": "stdout",
     "output_type": "stream",
     "text": [
      "混淆矩阵为：\n",
      "[[889  54]\n",
      " [ 51   5]]\n"
     ]
    }
   ],
   "source": [
    "m = sm.confusion_matrix(y_true, y_pre)\n",
    "print('混淆矩阵为：', m, sep='\\n')"
   ]
  },
  {
   "cell_type": "code",
   "execution_count": 47,
   "metadata": {},
   "outputs": [
    {
     "name": "stdout",
     "output_type": "stream",
     "text": [
      "分类报告为：\n",
      "              precision    recall  f1-score   support\n",
      "\n",
      "         0.0       0.95      0.94      0.94       943\n",
      "         1.0       0.08      0.09      0.09        56\n",
      "\n",
      "    accuracy                           0.89       999\n",
      "   macro avg       0.52      0.52      0.52       999\n",
      "weighted avg       0.90      0.89      0.90       999\n",
      "\n"
     ]
    }
   ],
   "source": [
    "r = sm.classification_report(y_true, y_pre)\n",
    "print('分类报告为：', r, sep='\\n')"
   ]
  },
  {
   "cell_type": "code",
   "execution_count": 48,
   "metadata": {},
   "outputs": [
    {
     "data": {
      "text/plain": [
       "0.588831237691259"
      ]
     },
     "execution_count": 48,
     "metadata": {},
     "output_type": "execute_result"
    }
   ],
   "source": [
    "from sklearn.metrics import roc_auc_score\n",
    "auc_score = roc_auc_score(y_true,y_score)\n",
    "auc_score"
   ]
  },
  {
   "cell_type": "code",
   "execution_count": 49,
   "metadata": {},
   "outputs": [],
   "source": [
    "def plot_roc(labels, predict_prob):\n",
    "    false_positive_rate,true_positive_rate,thresholds=roc_curve(labels, predict_prob)\n",
    "    roc_auc=auc(false_positive_rate, true_positive_rate)\n",
    "    plt.title('ROC')\n",
    "    plt.plot(false_positive_rate, true_positive_rate,'b',label='AUC = %0.4f'% roc_auc)\n",
    "    plt.legend(loc='lower right')\n",
    "    plt.plot([0,1],[0,1],'r--')\n",
    "    plt.ylabel('TPR')\n",
    "    plt.xlabel('FPR')\n",
    "    plt.show()"
   ]
  },
  {
   "cell_type": "code",
   "execution_count": 50,
   "metadata": {},
   "outputs": [
    {
     "data": {
      "image/png": "[encoded data removed]",
      "text/plain": [
       "<Figure size 432x288 with 1 Axes>"
      ]
     },
     "metadata": {
      "needs_background": "light"
     },
     "output_type": "display_data"
    }
   ],
   "source": [
    "plot_roc(y_true, y_score)"
   ]
  },
  {
   "cell_type": "code",
   "execution_count": null,
   "metadata": {},
   "outputs": [],
   "source": []
  }
 ],
 "metadata": {
  "kernelspec": {
   "display_name": "Python 3",
   "language": "python",
   "name": "python3"
  },
  "language_info": {
   "codemirror_mode": {
    "name": "ipython",
    "version": 3
   },
   "file_extension": ".py",
   "mimetype": "text/x-python",
   "name": "python",
   "nbconvert_exporter": "python",
   "pygments_lexer": "ipython3",
   "version": "3.7.6"
  }
 },
 "nbformat": 4,
 "nbformat_minor": 4
}
